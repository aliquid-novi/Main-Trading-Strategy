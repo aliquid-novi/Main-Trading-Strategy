{
 "cells": [
  {
   "cell_type": "code",
   "execution_count": null,
   "id": "cfcb7f87-85b3-4582-bb56-89365ec21125",
   "metadata": {},
   "outputs": [],
   "source": []
  },
  {
   "cell_type": "markdown",
   "id": "97604b48-c86d-44a2-a1a3-05671175dc8c",
   "metadata": {},
   "source": [
    "Main trading approaches:\n",
    "1. forecast macroeconomic releases' volatility and trade either side\n",
    "2. actually try and guess release direction based on economic data "
   ]
  },
  {
   "cell_type": "code",
   "execution_count": null,
   "id": "84ac4f3b-8c1d-4f3b-8a78-eba2d34ce416",
   "metadata": {},
   "outputs": [],
   "source": []
  },
  {
   "cell_type": "code",
   "execution_count": null,
   "id": "b0d20d53-9ca2-42a5-bbc9-deedceb1a564",
   "metadata": {},
   "outputs": [],
   "source": []
  }
 ],
 "metadata": {
  "kernelspec": {
   "display_name": "Python [conda env:base] *",
   "language": "python",
   "name": "conda-base-py"
  },
  "language_info": {
   "codemirror_mode": {
    "name": "ipython",
    "version": 3
   },
   "file_extension": ".py",
   "mimetype": "text/x-python",
   "name": "python",
   "nbconvert_exporter": "python",
   "pygments_lexer": "ipython3",
   "version": "3.12.7"
  }
 },
 "nbformat": 4,
 "nbformat_minor": 5
}
